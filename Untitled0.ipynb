{
  "nbformat": 4,
  "nbformat_minor": 0,
  "metadata": {
    "colab": {
      "name": "Untitled0.ipynb",
      "provenance": [],
      "authorship_tag": "ABX9TyMyeBECYpj4pI3wbkU+z3X+",
      "include_colab_link": true
    },
    "kernelspec": {
      "name": "python3",
      "display_name": "Python 3"
    },
    "language_info": {
      "name": "python"
    }
  },
  "cells": [
    {
      "cell_type": "markdown",
      "metadata": {
        "id": "view-in-github",
        "colab_type": "text"
      },
      "source": [
        "<a href=\"https://colab.research.google.com/github/knsaravanan1990/sample/blob/main/Untitled0.ipynb\" target=\"_parent\"><img src=\"https://colab.research.google.com/assets/colab-badge.svg\" alt=\"Open In Colab\"/></a>"
      ]
    },
    {
      "cell_type": "code",
      "execution_count": null,
      "metadata": {
        "colab": {
          "base_uri": "https://localhost:8080/"
        },
        "id": "-UqzNC8aiQ2d",
        "outputId": "0810e836-6086-406f-a269-36854f186c0d"
      },
      "outputs": [
        {
          "output_type": "stream",
          "name": "stdout",
          "text": [
            "saran\n",
            "addition of a&b is 5\n",
            "2\n"
          ]
        }
      ],
      "source": [
        "print ('saran')\n",
        "a = 2\n",
        "b = 3\n",
        "add = a + b \n",
        "print ('addition of a&b is', add)\n",
        "if (add < b):\n",
        " print (add)\n",
        "else:\n",
        " print (a)"
      ]
    },
    {
      "cell_type": "code",
      "source": [
        "a = 2\n",
        "b = 4\n",
        "if a > b :\n",
        "  print (a)\n",
        "else:\n",
        "  print (b)\n",
        "\n",
        "  c = 6\n",
        "  d = 8\n",
        "  maxi = max(c,d)\n",
        "  print(maxi)"
      ],
      "metadata": {
        "colab": {
          "base_uri": "https://localhost:8080/"
        },
        "id": "OCPY2ojc7-ZZ",
        "outputId": "0e4ec4a1-f704-4874-9c24-01c18f331541"
      },
      "execution_count": 9,
      "outputs": [
        {
          "output_type": "stream",
          "name": "stdout",
          "text": [
            "4\n",
            "8\n"
          ]
        }
      ]
    },
    {
      "cell_type": "code",
      "source": [
        "import math\n",
        "\n",
        "# Driver Code\n",
        "num = 4\n",
        "result = factorial(num)\n",
        "print(result)"
      ],
      "metadata": {
        "colab": {
          "base_uri": "https://localhost:8080/"
        },
        "id": "jQtY2MUVXbgh",
        "outputId": "891d5e53-5de0-445f-cc22-9e1727a19078"
      },
      "execution_count": 10,
      "outputs": [
        {
          "output_type": "stream",
          "name": "stdout",
          "text": [
            "24\n"
          ]
        }
      ]
    },
    {
      "cell_type": "code",
      "source": [
        "import math\n",
        "\n",
        "# Driver Code\n",
        "num = 4\n",
        "result = factorial(num)\n",
        "print(result)"
      ],
      "metadata": {
        "colab": {
          "base_uri": "https://localhost:8080/"
        },
        "id": "jH8Ik7lUYvIv",
        "outputId": "fe92a472-a2a6-471b-a6bc-f8a8fdd6b890"
      },
      "execution_count": 11,
      "outputs": [
        {
          "output_type": "stream",
          "name": "stdout",
          "text": [
            "24\n"
          ]
        }
      ]
    },
    {
      "cell_type": "code",
      "source": [
        "num1 = 1\n",
        "print(num1)\n",
        "num2 = 4.5\n",
        "print(num2)\n",
        "num3 = 'saran'\n",
        "print(num3)"
      ],
      "metadata": {
        "colab": {
          "base_uri": "https://localhost:8080/"
        },
        "id": "7tku4Z69oMCK",
        "outputId": "d69b5338-40f4-465f-f248-579c416df491"
      },
      "execution_count": null,
      "outputs": [
        {
          "output_type": "stream",
          "name": "stdout",
          "text": [
            "1\n",
            "4.5\n",
            "saran\n"
          ]
        }
      ]
    },
    {
      "cell_type": "code",
      "source": [
        "P = 10000\n",
        "R = 5\n",
        "T = 5\n",
        "simple = P * T * R / 100\n",
        "print(simple)"
      ],
      "metadata": {
        "colab": {
          "base_uri": "https://localhost:8080/"
        },
        "id": "DaJOoAGBlg3b",
        "outputId": "463e29f7-ac45-477f-8a4e-d3009504ab6c"
      },
      "execution_count": 2,
      "outputs": [
        {
          "output_type": "stream",
          "name": "stdout",
          "text": [
            "2500.0\n"
          ]
        }
      ]
    },
    {
      "cell_type": "code",
      "source": [
        "list = []\n",
        "list.append(1)\n",
        "list.append(4)\n",
        "list.append(\"sara\")\n",
        "print(list)"
      ],
      "metadata": {
        "colab": {
          "base_uri": "https://localhost:8080/"
        },
        "id": "mAhUFzdE0lxs",
        "outputId": "939d8a85-3091-4c16-f908-f5996b7bb7de"
      },
      "execution_count": 6,
      "outputs": [
        {
          "output_type": "stream",
          "name": "stdout",
          "text": [
            "[1, 4, 'sara']\n"
          ]
        }
      ]
    }
  ]
}