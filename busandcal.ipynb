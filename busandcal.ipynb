{
  "nbformat": 4,
  "nbformat_minor": 0,
  "metadata": {
    "colab": {
      "name": "Untitled4.ipynb",
      "provenance": [],
      "authorship_tag": "ABX9TyNnsJX6QqTVGt783pe534Ww",
      "include_colab_link": true
    },
    "kernelspec": {
      "name": "python3",
      "display_name": "Python 3"
    },
    "language_info": {
      "name": "python"
    }
  },
  "cells": [
    {
      "cell_type": "markdown",
      "metadata": {
        "id": "view-in-github",
        "colab_type": "text"
      },
      "source": [
        "<a href=\"https://colab.research.google.com/github/knsaravanan1990/sample/blob/main/busandcal.ipynb\" target=\"_parent\"><img src=\"https://colab.research.google.com/assets/colab-badge.svg\" alt=\"Open In Colab\"/></a>"
      ]
    },
    {
      "cell_type": "code",
      "source": [
        "print(\"#\"*10,\"Welcome to Saran Travels\",\"#\"*10)\n",
        "\n",
        "adult_price=40\n",
        "kids_price=20\n",
        "\n",
        "adults=int(input(\"\\nEnter the number of Adults Travelling:\"))\n",
        "kids=int(input(\"Enter the number of kids Travelling:\"))\n",
        "print(\"Total number of passengers travelling is :\", adults+kids)\n",
        "\n",
        "amt = ((adults*adult_price)+(kids*kids_price))\n",
        "print(\"Total fare \", \"INR:\",amt)\n",
        "if (amt>=1000):\n",
        "  discount = amt*0.05\n",
        "  print(\"You got the discount of \", \"INR:\",discount)\n",
        "  print(\"Payment after the discount \", \"INR:\",amt-discount)\n",
        "elif (amt>500 and amt<1000):\n",
        "  discount = amt*0.02\n",
        "  print(\"You got a discount of \", \"INR:\",discount)\n",
        "  print(\"Payment after discount \", \"INR:\",amt-discount)\n",
        "elif (amt<500):\n",
        "  print(\"No discount, you have to pay orignal amount\",\"INR:\",amt)\n",
        "print(\"\\n******Thank you! Have a Safe Journey******\")\n",
        "  \n",
        "  "
      ],
      "metadata": {
        "colab": {
          "base_uri": "https://localhost:8080/"
        },
        "id": "ZO8lal1uMsG-",
        "outputId": "78055139-8091-42a6-91c4-ade863729d1b"
      },
      "execution_count": 73,
      "outputs": [
        {
          "output_type": "stream",
          "name": "stdout",
          "text": [
            "########## Welcome to Saran Travels ##########\n",
            "\n",
            "Enter the number of Adults Travelling:5\n",
            "Enter the number of kids Travelling:4\n",
            "Total number of passengers travelling is : 9\n",
            "Total fare  INR: 280\n",
            "No discount, you have to pay orignal amount INR: 280\n",
            "\n",
            "******Thank you! Have a Safe Journey******\n"
          ]
        }
      ]
    },
    {
      "cell_type": "code",
      "source": [
        "print(\"#\"*10,\"Welcome to Saran Travels\",\"#\"*10)\n",
        "\n",
        "adult_price=40\n",
        "kids_price=20\n",
        "\n",
        "adults=int(input(\"\\nEnter the number of Adults Travelling:\"))\n",
        "kids=int(input(\"Enter the number of kids Travelling:\"))\n",
        "print(\"Total number of passengers travelling is :\", adults+kids)\n",
        "\n",
        "amt = ((adults*adult_price)+(kids*kids_price))\n",
        "print(\"Total fare \", \"INR:\",amt)\n",
        "if (amt>=1000):\n",
        "  discount = amt*0.05\n",
        "elif (amt>500 and amt<1000):\n",
        "  discount = amt*0.02\n",
        "elif (amt<500):\n",
        "  discount = amt*0\n",
        "print(\"You got a discount of \", \"INR:\",discount)\n",
        "print(\"Payment after discount \", \"INR:\",amt-discount)\n",
        "print(\"\\n******Thank you! Have a Safe Journey******\")"
      ],
      "metadata": {
        "colab": {
          "base_uri": "https://localhost:8080/"
        },
        "id": "tdAiumpMJdjS",
        "outputId": "27c207a1-974b-4be9-d9a6-46d469d6c9ec"
      },
      "execution_count": 4,
      "outputs": [
        {
          "output_type": "stream",
          "name": "stdout",
          "text": [
            "########## Welcome to Saran Travels ##########\n",
            "\n",
            "Enter the number of Adults Travelling:10\n",
            "Enter the number of kids Travelling:6\n",
            "Total number of passengers travelling is : 16\n",
            "Total fare  INR: 520\n",
            "You got a discount of  INR: 10.4\n",
            "Payment after discount  INR: 509.6\n",
            "\n",
            "******Thank you! Have a Safe Journey******\n"
          ]
        }
      ]
    },
    {
      "cell_type": "code",
      "source": [
        "print('#'*10,\"Arthimetic Operation\",'#'*10)\n",
        "print(\"1.sum\\n2.sub\\n3.mul\\n4.div\\n5.mod\\n\")\n",
        "choice=int(input(\"Enter your choice :\"))\n",
        "if choice in range (1,6):\n",
        "  num1=eval(input(\"\\nEnter the number1 :\"))\n",
        "  num2=eval(input(\"Enter the number2 :\"))\n",
        "  if (choice==1):\n",
        "    print(\"\\nsum of two number is\", num1+num2)\n",
        "  elif (choice==2):\n",
        "    print(\"\\nsubtraction of two number is\",num1-num2)\n",
        "  elif (choice==3):\n",
        "    print(\"\\nmultiplication of two number is\",num1*num2)\n",
        "  elif (choice==4):\n",
        "    print(\"\\ndivision of two number is\",num1/num2)\n",
        "  elif (choice==5):\n",
        "    print(\"\\nmod of two number is\",num1%num2)\n",
        "else:\n",
        "  print(\"\\nplease enter valid option\")\n",
        "print(\"\\nThank you\")"
      ],
      "metadata": {
        "colab": {
          "base_uri": "https://localhost:8080/"
        },
        "id": "e3-V-jfMIn6z",
        "outputId": "7f0642ea-5282-4e50-e4e7-9c5019b437c5"
      },
      "execution_count": 74,
      "outputs": [
        {
          "output_type": "stream",
          "name": "stdout",
          "text": [
            "########## Arthimetic Operation ##########\n",
            "1.sum\n",
            "2.sub\n",
            "3.mul\n",
            "4.div\n",
            "5.mod\n",
            "\n",
            "Enter your choice :6\n",
            "\n",
            "please enter valid option\n",
            "\n",
            "Thank you\n"
          ]
        }
      ]
    }
  ]
}