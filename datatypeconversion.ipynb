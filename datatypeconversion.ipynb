{
  "nbformat": 4,
  "nbformat_minor": 0,
  "metadata": {
    "colab": {
      "name": "Untitled1.ipynb",
      "provenance": [],
      "authorship_tag": "ABX9TyN6poRQFCn1rCHeI4Lp//Md",
      "include_colab_link": true
    },
    "kernelspec": {
      "name": "python3",
      "display_name": "Python 3"
    },
    "language_info": {
      "name": "python"
    }
  },
  "cells": [
    {
      "cell_type": "markdown",
      "metadata": {
        "id": "view-in-github",
        "colab_type": "text"
      },
      "source": [
        "<a href=\"https://colab.research.google.com/github/knsaravanan1990/sample/blob/main/datatypeconversion.ipynb\" target=\"_parent\"><img src=\"https://colab.research.google.com/assets/colab-badge.svg\" alt=\"Open In Colab\"/></a>"
      ]
    },
    {
      "cell_type": "code",
      "execution_count": 2,
      "metadata": {
        "colab": {
          "base_uri": "https://localhost:8080/"
        },
        "id": "gKkl-Q9ma1zG",
        "outputId": "e360c277-972f-48be-ad1c-45a088361a52"
      },
      "outputs": [
        {
          "output_type": "stream",
          "name": "stdout",
          "text": [
            "enter the name:saran\n",
            "enter the age:32\n",
            "this is saran from NOC\n",
            "age is: 32\n",
            "<class 'str'>\n",
            "<class 'int'>\n"
          ]
        }
      ],
      "source": [
        "name=input(\"enter the name:\")\n",
        "age=eval(input(\"enter the age:\"))\n",
        "print(\"this is\",name,\"from NOC\")\n",
        "print(\"age is:\",age)\n",
        "print(type (name))\n",
        "print(type(age))"
      ]
    }
  ]
}