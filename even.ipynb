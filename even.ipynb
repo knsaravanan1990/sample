{
  "nbformat": 4,
  "nbformat_minor": 0,
  "metadata": {
    "colab": {
      "name": "Untitled3.ipynb",
      "provenance": [],
      "authorship_tag": "ABX9TyPfQzZpb7yeHS7Eeu0GU9U9",
      "include_colab_link": true
    },
    "kernelspec": {
      "name": "python3",
      "display_name": "Python 3"
    },
    "language_info": {
      "name": "python"
    }
  },
  "cells": [
    {
      "cell_type": "markdown",
      "metadata": {
        "id": "view-in-github",
        "colab_type": "text"
      },
      "source": [
        "<a href=\"https://colab.research.google.com/github/knsaravanan1990/sample/blob/main/even.ipynb\" target=\"_parent\"><img src=\"https://colab.research.google.com/assets/colab-badge.svg\" alt=\"Open In Colab\"/></a>"
      ]
    },
    {
      "cell_type": "code",
      "execution_count": null,
      "metadata": {
        "id": "J4tZ_ke3DDRK"
      },
      "outputs": [],
      "source": [
        "a=10\n",
        "if a==10:\n",
        " print(\"welcome\")\n",
        " print(\"you are good\")\n",
        "print(\"bye\")"
      ]
    },
    {
      "cell_type": "code",
      "source": [
        "#even or odd \n",
        "num = int(input(\"Enter a number: \"))\n",
        "if (num % 2) == 0:\n",
        "  print(num,\"is even\")\n",
        "else:\n",
        "  print(num,\"is odd\")"
      ],
      "metadata": {
        "colab": {
          "base_uri": "https://localhost:8080/"
        },
        "id": "8cS0e6vVD08p",
        "outputId": "8dc70290-1d43-45da-dee9-348899bff171"
      },
      "execution_count": 16,
      "outputs": [
        {
          "output_type": "stream",
          "name": "stdout",
          "text": [
            "Enter a number: 100\n",
            "100 is even\n"
          ]
        }
      ]
    },
    {
      "cell_type": "code",
      "source": [
        "#given number is 3 digit number or not\n",
        "a = eval(input(\"enter the number: \"))\n",
        "if (a > 99 and a <= 999):\n",
        "  print (\"3digit number\")\n",
        "else:\n",
        "  print (\"not a 3didig number\")"
      ],
      "metadata": {
        "colab": {
          "base_uri": "https://localhost:8080/"
        },
        "id": "CKQz_byaH9F1",
        "outputId": "eecf4eac-d271-4472-91ec-7717bd15f66c"
      },
      "execution_count": 14,
      "outputs": [
        {
          "output_type": "stream",
          "name": "stdout",
          "text": [
            "enter the number: 666\n",
            "3digit number\n"
          ]
        }
      ]
    },
    {
      "cell_type": "code",
      "source": [
        "import os\n",
        "os.system('cls')\n",
        "os.system('ipconfig')\n",
        "os.system('date')\n",
        "os.system('uname')"
      ],
      "metadata": {
        "colab": {
          "base_uri": "https://localhost:8080/"
        },
        "id": "wRgQb1jLMc8g",
        "outputId": "fead6446-ce05-4e0b-877d-5764e1d8bfd8"
      },
      "execution_count": 18,
      "outputs": [
        {
          "output_type": "execute_result",
          "data": {
            "text/plain": [
              "0"
            ]
          },
          "metadata": {},
          "execution_count": 18
        }
      ]
    }
  ]
}