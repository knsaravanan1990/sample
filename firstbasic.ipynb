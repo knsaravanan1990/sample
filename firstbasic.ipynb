{
  "nbformat": 4,
  "nbformat_minor": 0,
  "metadata": {
    "colab": {
      "name": "Untitled0.ipynb",
      "provenance": [],
      "authorship_tag": "ABX9TyOpnLR/CCa+Ksd06qiIbuYj",
      "include_colab_link": true
    },
    "kernelspec": {
      "name": "python3",
      "display_name": "Python 3"
    },
    "language_info": {
      "name": "python"
    }
  },
  "cells": [
    {
      "cell_type": "markdown",
      "metadata": {
        "id": "view-in-github",
        "colab_type": "text"
      },
      "source": [
        "<a href=\"https://colab.research.google.com/github/knsaravanan1990/sample/blob/main/firstbasic.ipynb\" target=\"_parent\"><img src=\"https://colab.research.google.com/assets/colab-badge.svg\" alt=\"Open In Colab\"/></a>"
      ]
    },
    {
      "cell_type": "code",
      "execution_count": 14,
      "metadata": {
        "colab": {
          "base_uri": "https://localhost:8080/"
        },
        "id": "-UqzNC8aiQ2d",
        "outputId": "0810e836-6086-406f-a269-36854f186c0d"
      },
      "outputs": [
        {
          "output_type": "stream",
          "name": "stdout",
          "text": [
            "saran\n",
            "addition of a&b is 5\n",
            "2\n"
          ]
        }
      ],
      "source": [
        "print ('saran')\n",
        "a = 2\n",
        "b = 3\n",
        "add = a + b \n",
        "print ('addition of a&b is', add)\n",
        "if (add < b):\n",
        " print (add)\n",
        "else:\n",
        " print (a)"
      ]
    }
  ]
}