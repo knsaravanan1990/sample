{
  "nbformat": 4,
  "nbformat_minor": 0,
  "metadata": {
    "colab": {
      "name": "Untitled6.ipynb",
      "provenance": [],
      "authorship_tag": "ABX9TyOHR/kdhayTurI49Qm8dxEL",
      "include_colab_link": true
    },
    "kernelspec": {
      "name": "python3",
      "display_name": "Python 3"
    },
    "language_info": {
      "name": "python"
    }
  },
  "cells": [
    {
      "cell_type": "markdown",
      "metadata": {
        "id": "view-in-github",
        "colab_type": "text"
      },
      "source": [
        "<a href=\"https://colab.research.google.com/github/knsaravanan1990/sample/blob/main/forloop.ipynb\" target=\"_parent\"><img src=\"https://colab.research.google.com/assets/colab-badge.svg\" alt=\"Open In Colab\"/></a>"
      ]
    },
    {
      "cell_type": "code",
      "execution_count": null,
      "metadata": {
        "id": "9TIxjWur4DNe"
      },
      "outputs": [],
      "source": [
        "for i in range(1,10):\n",
        "  print(i)"
      ]
    },
    {
      "cell_type": "code",
      "source": [
        "for i in range(1,11,2):\n",
        "  print(i)"
      ],
      "metadata": {
        "id": "Vw0E1kh94EvT"
      },
      "execution_count": null,
      "outputs": []
    },
    {
      "cell_type": "code",
      "source": [
        "for i in range(2,11,2):\n",
        "  print(i)"
      ],
      "metadata": {
        "id": "9yr1C1QC4SSJ"
      },
      "execution_count": null,
      "outputs": []
    },
    {
      "cell_type": "code",
      "source": [
        "for i in 'python':\n",
        "  print(i)\n",
        "  if i=='t':\n",
        "     continue\n",
        "  elif i=='o':\n",
        "     break\n",
        "  \n"
      ],
      "metadata": {
        "colab": {
          "base_uri": "https://localhost:8080/"
        },
        "id": "7Ms2Is1f4ZEE",
        "outputId": "f21fd251-c387-4382-81c3-e34e004a82b3"
      },
      "execution_count": 13,
      "outputs": [
        {
          "output_type": "stream",
          "name": "stdout",
          "text": [
            "p\n",
            "y\n",
            "t\n",
            "h\n",
            "o\n"
          ]
        }
      ]
    },
    {
      "cell_type": "code",
      "source": [
        "for i in range(50):\n",
        "  if (i%3==0 and i%5==0):\n",
        "    print(\"FizzBuzz\")\n",
        "  elif (i%5 == 0):\n",
        "    print(\"Buzz\")\n",
        "  elif (i%3==0):\n",
        "    print(\"Buzz\")\n",
        "  else:\n",
        "    print(i)\n",
        "  "
      ],
      "metadata": {
        "colab": {
          "base_uri": "https://localhost:8080/"
        },
        "id": "SvhUtbpo7FGi",
        "outputId": "b232982a-eb8f-4457-e69e-aaee692ed9c0"
      },
      "execution_count": 15,
      "outputs": [
        {
          "output_type": "stream",
          "name": "stdout",
          "text": [
            "FizzBuzz\n",
            "1\n",
            "2\n",
            "Buzz\n",
            "4\n",
            "Buzz\n",
            "Buzz\n",
            "7\n",
            "8\n",
            "Buzz\n",
            "Buzz\n",
            "11\n",
            "Buzz\n",
            "13\n",
            "14\n",
            "FizzBuzz\n",
            "16\n",
            "17\n",
            "Buzz\n",
            "19\n",
            "Buzz\n",
            "Buzz\n",
            "22\n",
            "23\n",
            "Buzz\n",
            "Buzz\n",
            "26\n",
            "Buzz\n",
            "28\n",
            "29\n",
            "FizzBuzz\n",
            "31\n",
            "32\n",
            "Buzz\n",
            "34\n",
            "Buzz\n",
            "Buzz\n",
            "37\n",
            "38\n",
            "Buzz\n",
            "Buzz\n",
            "41\n",
            "Buzz\n",
            "43\n",
            "44\n",
            "FizzBuzz\n",
            "46\n",
            "47\n",
            "Buzz\n",
            "49\n"
          ]
        }
      ]
    }
  ]
}