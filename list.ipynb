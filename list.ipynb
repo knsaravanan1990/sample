{
  "nbformat": 4,
  "nbformat_minor": 0,
  "metadata": {
    "colab": {
      "name": "Untitled7.ipynb",
      "provenance": [],
      "authorship_tag": "ABX9TyPgNx0OjRyD/0DYO/vfmkEe",
      "include_colab_link": true
    },
    "kernelspec": {
      "name": "python3",
      "display_name": "Python 3"
    },
    "language_info": {
      "name": "python"
    }
  },
  "cells": [
    {
      "cell_type": "markdown",
      "metadata": {
        "id": "view-in-github",
        "colab_type": "text"
      },
      "source": [
        "<a href=\"https://colab.research.google.com/github/knsaravanan1990/sample/blob/main/list.ipynb\" target=\"_parent\"><img src=\"https://colab.research.google.com/assets/colab-badge.svg\" alt=\"Open In Colab\"/></a>"
      ]
    },
    {
      "cell_type": "code",
      "execution_count": null,
      "metadata": {
        "id": "LE1yDRB39L9O"
      },
      "outputs": [],
      "source": [
        "list=[10,20.5,\"saran\"]\n",
        "a='sara'\n",
        "print(id(list))\n",
        "print(type(list))\n",
        "print(id(a))\n",
        "print(list[2][0])\n",
        "for i in list:\n",
        "  print(i)"
      ]
    },
    {
      "cell_type": "code",
      "source": [
        "list=[10,20.5,\"saran\",22,44,55]\n",
        "print(list[1]) #print first index value\n",
        "print(list[0:]) #print from first[0] index to final value\n",
        "print(list[0],list[1]) #print first index value and second index\n",
        "print(list[0:-1]) #print first index value to end expect last index value\n",
        "print(list[-1]) #print last index value\n",
        "print(list[2][0]) #print 3 index second value\n",
        "print(list[0::2]) #print from first index to last every 2nd value\n",
        "print(list[0::5]) #print from first index to last every 5th value\n",
        "print(list[0:-1:2])"
      ],
      "metadata": {
        "id": "pTOWZyc1ALp6"
      },
      "execution_count": null,
      "outputs": []
    },
    {
      "cell_type": "code",
      "source": [
        "list = [10,30,50,70]\n",
        "list[0]=20\n",
        "print(list)\n",
        "list1=list\n",
        "print(list1)\n",
        "print(\"########\")\n",
        "print(id(list))\n",
        "print(id(list1))\n"
      ],
      "metadata": {
        "colab": {
          "base_uri": "https://localhost:8080/"
        },
        "id": "xDxFly5tCMnL",
        "outputId": "e0a518a4-6024-4813-c248-c4356fb11507"
      },
      "execution_count": 28,
      "outputs": [
        {
          "output_type": "stream",
          "name": "stdout",
          "text": [
            "[20, 30, 50, 70]\n",
            "[20, 30, 50, 70]\n",
            "########\n",
            "140341395863424\n",
            "140341395863424\n"
          ]
        }
      ]
    },
    {
      "cell_type": "code",
      "source": [
        "list = [10,30,50,70]\n",
        "print(list)\n",
        "list1=list.copy()\n",
        "print(list1)\n",
        "print(\"########\")\n",
        "print(id(list))\n",
        "print(id(list1))"
      ],
      "metadata": {
        "colab": {
          "base_uri": "https://localhost:8080/"
        },
        "id": "T_e9PF1KEH4w",
        "outputId": "a19f1acd-2486-4ad8-fbde-ebab421274a5"
      },
      "execution_count": 29,
      "outputs": [
        {
          "output_type": "stream",
          "name": "stdout",
          "text": [
            "[10, 30, 50, 70]\n",
            "[10, 30, 50, 70]\n",
            "########\n",
            "140341396231344\n",
            "140341396793936\n"
          ]
        }
      ]
    },
    {
      "cell_type": "code",
      "source": [
        "list=[10,22,[22,33],44,(66,88,100),81]\n",
        "print(list[0])\n",
        "print(list[2][1])\n",
        "print(list[-1])\n",
        "print(list[0:-1])\n",
        "list[2][1]=\"saran\"\n",
        "print(list)\n",
        "list[-2]=\"test\"\n",
        "print(list)"
      ],
      "metadata": {
        "colab": {
          "base_uri": "https://localhost:8080/"
        },
        "id": "is3Oag3OJD1O",
        "outputId": "fde6cb83-a9e5-48d4-a03f-103a879570e6"
      },
      "execution_count": 39,
      "outputs": [
        {
          "output_type": "stream",
          "name": "stdout",
          "text": [
            "10\n",
            "33\n",
            "81\n",
            "[10, 22, [22, 33], 44, (66, 88, 100)]\n",
            "[10, 22, [22, 'saran'], 44, (66, 88, 100), 81]\n",
            "[10, 22, [22, 'saran'], 44, 'test', 81]\n"
          ]
        }
      ]
    }
  ]
}