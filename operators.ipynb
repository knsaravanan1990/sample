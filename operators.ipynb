{
  "nbformat": 4,
  "nbformat_minor": 0,
  "metadata": {
    "colab": {
      "name": "Untitled2.ipynb",
      "provenance": [],
      "authorship_tag": "ABX9TyN831wUJR9HfBtefd0iFY9F",
      "include_colab_link": true
    },
    "kernelspec": {
      "name": "python3",
      "display_name": "Python 3"
    },
    "language_info": {
      "name": "python"
    }
  },
  "cells": [
    {
      "cell_type": "markdown",
      "metadata": {
        "id": "view-in-github",
        "colab_type": "text"
      },
      "source": [
        "<a href=\"https://colab.research.google.com/github/knsaravanan1990/sample/blob/main/operators.ipynb\" target=\"_parent\"><img src=\"https://colab.research.google.com/assets/colab-badge.svg\" alt=\"Open In Colab\"/></a>"
      ]
    },
    {
      "cell_type": "code",
      "execution_count": 1,
      "metadata": {
        "colab": {
          "base_uri": "https://localhost:8080/"
        },
        "id": "UFlELd8y0xUM",
        "outputId": "9835fd6b-f048-4a1a-fc63-901e717eaba6"
      },
      "outputs": [
        {
          "output_type": "stream",
          "name": "stdout",
          "text": [
            "enter the number1:4\n",
            "enter the number2:5\n",
            "addition of numbers 4 and 5 is: 9\n",
            "sub of numbers 4 and 5 is: -1\n",
            "multiply of numbers 4 and 5 is: 20\n",
            "Division of numbers 4 and 5 is: 0.8\n",
            "mod of numbers 4 and 5 is: 4\n",
            "Power of numbers 4 and 5 is: 1024\n"
          ]
        }
      ],
      "source": [
        "num1=eval(input(\"enter the number1:\"))\n",
        "num2=eval(input(\"enter the number2:\"))\n",
        "print(\"addition of numbers\",num1,\"and\",num2,\"is:\", num1+num2)\n",
        "print(\"sub of numbers\",num1,\"and\",num2,\"is:\", num1-num2)\n",
        "print(\"multiply of numbers\",num1,\"and\",num2,\"is:\", num1*num2)\n",
        "print(\"Division of numbers\",num1,\"and\",num2,\"is:\", num1/num2)\n",
        "print(\"mod of numbers\",num1,\"and\",num2,\"is:\", num1%num2)\n",
        "print(\"Power of numbers\",num1,\"and\",num2,\"is:\", num1**num2)"
      ]
    },
    {
      "cell_type": "code",
      "source": [
        "a=5\n",
        "b=20\n",
        "str1='saran'\n",
        "str2=\"tiger\"\n",
        "str3='ball'\n",
        "print(a<b)\n",
        "print(a>b)\n",
        "print(str1<str2)\n",
        "print(str1>str2)\n",
        "print(str1>str3)\n"
      ],
      "metadata": {
        "colab": {
          "base_uri": "https://localhost:8080/"
        },
        "id": "-clD6F5-08E7",
        "outputId": "1a992c4e-99b7-4f85-9ac7-90494ae45cb7"
      },
      "execution_count": 4,
      "outputs": [
        {
          "output_type": "stream",
          "name": "stdout",
          "text": [
            "True\n",
            "False\n",
            "True\n",
            "False\n",
            "True\n"
          ]
        }
      ]
    },
    {
      "cell_type": "code",
      "source": [
        "a=6\n",
        "b=5\n",
        "c=3\n",
        "print(a>b and a>c)\n",
        "print(a>b or a>c)\n",
        "print(b<c and not a)"
      ],
      "metadata": {
        "colab": {
          "base_uri": "https://localhost:8080/"
        },
        "id": "xrT-w9tp5fcB",
        "outputId": "62856a8e-b086-42e8-9a18-70ea6a064b0f"
      },
      "execution_count": 12,
      "outputs": [
        {
          "output_type": "stream",
          "name": "stdout",
          "text": [
            "True\n",
            "True\n",
            "False\n"
          ]
        }
      ]
    },
    {
      "cell_type": "code",
      "source": [
        "\"\"\"\n",
        "below are same always use first \n",
        "\"\"\"\n",
        "k=6\n",
        "k+=1\n",
        "print(k)\n",
        "z=6\n",
        "z=z+1\n",
        "print(z)"
      ],
      "metadata": {
        "colab": {
          "base_uri": "https://localhost:8080/"
        },
        "id": "im_dIZR27FTn",
        "outputId": "a4046c2f-d462-4386-b7dd-5f822b1c1f0c"
      },
      "execution_count": 18,
      "outputs": [
        {
          "output_type": "stream",
          "name": "stdout",
          "text": [
            "7\n",
            "7\n"
          ]
        }
      ]
    }
  ]
}