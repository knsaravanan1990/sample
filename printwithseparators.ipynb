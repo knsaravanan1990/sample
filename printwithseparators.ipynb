{
  "nbformat": 4,
  "nbformat_minor": 0,
  "metadata": {
    "colab": {
      "name": "Untitled1.ipynb",
      "provenance": [],
      "authorship_tag": "ABX9TyPf1ynXXIM3vCIQ6wUgoXPx",
      "include_colab_link": true
    },
    "kernelspec": {
      "name": "python3",
      "display_name": "Python 3"
    },
    "language_info": {
      "name": "python"
    }
  },
  "cells": [
    {
      "cell_type": "markdown",
      "metadata": {
        "id": "view-in-github",
        "colab_type": "text"
      },
      "source": [
        "<a href=\"https://colab.research.google.com/github/knsaravanan1990/sample/blob/main/printwithseparators.ipynb\" target=\"_parent\"><img src=\"https://colab.research.google.com/assets/colab-badge.svg\" alt=\"Open In Colab\"/></a>"
      ]
    },
    {
      "cell_type": "code",
      "execution_count": 17,
      "metadata": {
        "colab": {
          "base_uri": "https://localhost:8080/"
        },
        "id": "gKkl-Q9ma1zG",
        "outputId": "64a6ac2a-41a9-476a-b828-cb038b8658ba"
      },
      "outputs": [
        {
          "output_type": "stream",
          "name": "stdout",
          "text": [
            "im saravanan\n",
            "i'm saravanan\n",
            "i'm new to this, \n",
            "bye\n",
            "Noc Team no 1 team in \"infra ops\"\t group\n"
          ]
        }
      ],
      "source": [
        "\"\"\"\n",
        "name=input(\"enter the name:\")\n",
        "age=eval(input(\"enter the age:\"))\n",
        "print(\"this is\",name,\"from NOC\")\n",
        "print(\"age is:\",age)\n",
        "print(type (name))\n",
        "print(type(age))\n",
        "\"\"\"\n",
        "str1 = 'im saravanan'\n",
        "print(str1)\n",
        "str2 = 'i\\'m saravanan'\n",
        "print(str2)\n",
        "str3 = \"i'm new to this, \\nbye\"\n",
        "print(str3)\n",
        "str4 = \"Noc Team no 1 team in \\\"infra ops\\\"\\t group\"\n",
        "print(str4)"
      ]
    }
  ]
}