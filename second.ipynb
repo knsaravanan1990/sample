{
  "nbformat": 4,
  "nbformat_minor": 0,
  "metadata": {
    "colab": {
      "name": "Untitled0.ipynb",
      "provenance": [],
      "authorship_tag": "ABX9TyP7j3HtAwRqYw2l/nuuXNRT",
      "include_colab_link": true
    },
    "kernelspec": {
      "name": "python3",
      "display_name": "Python 3"
    },
    "language_info": {
      "name": "python"
    }
  },
  "cells": [
    {
      "cell_type": "markdown",
      "metadata": {
        "id": "view-in-github",
        "colab_type": "text"
      },
      "source": [
        "<a href=\"https://colab.research.google.com/github/knsaravanan1990/sample/blob/main/second.ipynb\" target=\"_parent\"><img src=\"https://colab.research.google.com/assets/colab-badge.svg\" alt=\"Open In Colab\"/></a>"
      ]
    },
    {
      "cell_type": "code",
      "execution_count": null,
      "metadata": {
        "colab": {
          "base_uri": "https://localhost:8080/"
        },
        "id": "-UqzNC8aiQ2d",
        "outputId": "0810e836-6086-406f-a269-36854f186c0d"
      },
      "outputs": [
        {
          "output_type": "stream",
          "name": "stdout",
          "text": [
            "saran\n",
            "addition of a&b is 5\n",
            "2\n"
          ]
        }
      ],
      "source": [
        "print ('saran')\n",
        "a = 2\n",
        "b = 3\n",
        "add = a + b \n",
        "print ('addition of a&b is', add)\n",
        "if (add < b):\n",
        " print (add)\n",
        "else:\n",
        " print (a)"
      ]
    },
    {
      "cell_type": "code",
      "source": [
        "a = 2\n",
        "b = 4\n",
        "if a > b :\n",
        "  print (a)\n",
        "else:\n",
        "  print (b)\n",
        "\n",
        "  c = 6\n",
        "  d = 8\n",
        "  maxi = max(c,d)\n",
        "  print(maxi)"
      ],
      "metadata": {
        "colab": {
          "base_uri": "https://localhost:8080/"
        },
        "id": "OCPY2ojc7-ZZ",
        "outputId": "0e4ec4a1-f704-4874-9c24-01c18f331541"
      },
      "execution_count": null,
      "outputs": [
        {
          "output_type": "stream",
          "name": "stdout",
          "text": [
            "4\n",
            "8\n"
          ]
        }
      ]
    },
    {
      "cell_type": "code",
      "source": [
        "num1 = 1\n",
        "print(num1)\n",
        "num2 = 4.5\n",
        "print(num2)\n",
        "num3 = 'saran'\n",
        "print(num3)\n",
        "list = []\n",
        "list.append(num1)\n",
        "list.append(num2)\n",
        "list.append(num3)\n",
        "print(list)"
      ],
      "metadata": {
        "colab": {
          "base_uri": "https://localhost:8080/"
        },
        "id": "7tku4Z69oMCK",
        "outputId": "68466037-dfae-43c8-8f48-bd3f3d0946f1"
      },
      "execution_count": 1,
      "outputs": [
        {
          "output_type": "stream",
          "name": "stdout",
          "text": [
            "1\n",
            "4.5\n",
            "saran\n",
            "[1, 4.5, 'saran']\n"
          ]
        }
      ]
    }
  ]
}