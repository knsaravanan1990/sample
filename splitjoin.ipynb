{
  "nbformat": 4,
  "nbformat_minor": 0,
  "metadata": {
    "colab": {
      "name": "Untitled2.ipynb",
      "provenance": [],
      "authorship_tag": "ABX9TyP+Dta6Ygm8DqOeXkv979MD",
      "include_colab_link": true
    },
    "kernelspec": {
      "name": "python3",
      "display_name": "Python 3"
    },
    "language_info": {
      "name": "python"
    }
  },
  "cells": [
    {
      "cell_type": "markdown",
      "metadata": {
        "id": "view-in-github",
        "colab_type": "text"
      },
      "source": [
        "<a href=\"https://colab.research.google.com/github/knsaravanan1990/sample/blob/main/splitjoin.ipynb\" target=\"_parent\"><img src=\"https://colab.research.google.com/assets/colab-badge.svg\" alt=\"Open In Colab\"/></a>"
      ]
    },
    {
      "cell_type": "code",
      "source": [
        "server='god is love'\n",
        "print(server.upper()) #changing to capital\n",
        "print(server.split()[0]) #split and print first value\n",
        "user='foremanexec:x:905:905:allows foreman to execute remote tasks:/home/foremanexec:/bin/bash'\n",
        "print(user.split(':')[0].upper()) #split and print first value then changing to upper"
      ],
      "metadata": {
        "colab": {
          "base_uri": "https://localhost:8080/"
        },
        "id": "n3ySJ0lcsZq4",
        "outputId": "f4389427-5f5e-43f6-e6de-377ebd26f1a2"
      },
      "execution_count": 9,
      "outputs": [
        {
          "output_type": "stream",
          "name": "stdout",
          "text": [
            "GOD IS LOVE\n",
            "god\n",
            "FOREMANEXEC\n"
          ]
        }
      ]
    },
    {
      "cell_type": "code",
      "source": [
        "file='08thfeb2022 192.68.0.1 80 192.168.0.7 88 file.cgi'\n",
        "list=\" \".join(file.split()[1:5])\n",
        "print(list)\n",
        "\"\"\"\n",
        "file=\"08thfeb2022 192.68.0.1 80 192.168.0.7 88 file.cgi\"\n",
        "ip=(file.split())\n",
        "print(ip)\n",
        "list=ip[1:5]\n",
        "k=\" \".join(list)\n",
        "print(k)\n",
        "\"\"\"\n"
      ],
      "metadata": {
        "colab": {
          "base_uri": "https://localhost:8080/",
          "height": 53
        },
        "id": "vlMdqCU_uhmc",
        "outputId": "2dff1d63-1cad-4f48-c333-aaafa8f5e638"
      },
      "execution_count": 21,
      "outputs": [
        {
          "output_type": "stream",
          "name": "stdout",
          "text": [
            "192.68.0.1 80 192.168.0.7 88\n"
          ]
        },
        {
          "output_type": "execute_result",
          "data": {
            "application/vnd.google.colaboratory.intrinsic+json": {
              "type": "string"
            },
            "text/plain": [
              "'\\nfile=\"08thfeb2022 192.68.0.1 80 192.168.0.7 88 file.cgi\"\\nip=(file.split())\\nprint(ip)\\nlist=ip[1:5]\\nk=\" \".join(list)\\nprint(k)\\n'"
            ]
          },
          "metadata": {},
          "execution_count": 21
        }
      ]
    },
    {
      "cell_type": "code",
      "source": [
        "x=\" \\n python \\n\"\n",
        "print(x)\n",
        "print(x.strip())\n",
        "print(x.rstrip())\n",
        "print(x.lstrip())"
      ],
      "metadata": {
        "colab": {
          "base_uri": "https://localhost:8080/"
        },
        "id": "2P5-xxyPxmBC",
        "outputId": "f383a2e0-5f96-493d-f122-61c15a1024b7"
      },
      "execution_count": 28,
      "outputs": [
        {
          "output_type": "stream",
          "name": "stdout",
          "text": [
            " \n",
            " python \n",
            "\n",
            "python\n",
            " \n",
            " python\n",
            "python \n",
            "\n"
          ]
        }
      ]
    }
  ]
}