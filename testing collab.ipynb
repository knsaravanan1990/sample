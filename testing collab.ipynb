{
  "nbformat": 4,
  "nbformat_minor": 0,
  "metadata": {
    "colab": {
      "name": "Untitled8.ipynb",
      "provenance": [],
      "authorship_tag": "ABX9TyP1XKWskGRT1AzpyXgBhkRs",
      "include_colab_link": true
    },
    "kernelspec": {
      "name": "python3",
      "display_name": "Python 3"
    },
    "language_info": {
      "name": "python"
    }
  },
  "cells": [
    {
      "cell_type": "markdown",
      "metadata": {
        "id": "view-in-github",
        "colab_type": "text"
      },
      "source": [
        "<a href=\"https://colab.research.google.com/github/knsaravanan1990/sample/blob/main/testing%20collab.ipynb\" target=\"_parent\"><img src=\"https://colab.research.google.com/assets/colab-badge.svg\" alt=\"Open In Colab\"/></a>"
      ]
    },
    {
      "cell_type": "code",
      "execution_count": 1,
      "metadata": {
        "colab": {
          "base_uri": "https://localhost:8080/"
        },
        "id": "AsJKlKBPMyEn",
        "outputId": "cfa8cd5a-3e08-4a34-9c15-ad7e3811e4db"
      },
      "outputs": [
        {
          "output_type": "stream",
          "name": "stdout",
          "text": [
            "[10, 22, [22, 33], 44, (66, 88, 100), 81, [11, 22, 33]]\n",
            "10\n",
            "22\n",
            "[22, 33]\n",
            "44\n",
            "(66, 88, 100)\n",
            "81\n",
            "[11, 22, 33]\n"
          ]
        }
      ],
      "source": [
        "list=[10,22,[22,33],44,(66,88,100),81]\n",
        "new = [11,22,33]\n",
        "list.append(new)\n",
        "print(list)\n",
        "for i in list:\n",
        "  print(i)"
      ]
    },
    {
      "cell_type": "code",
      "source": [
        "list=[10,22,[22,33],44,(66,88,100),81,22]\n",
        "new = [11,22,33]\n",
        "list.extend(new)\n",
        "print(list)\n",
        "print(list.count(22))\n",
        "list.insert(2,'sar')\n",
        "print(list)\n",
        "list.pop()\n",
        "print(list)\n",
        "list.remove(44)\n",
        "print(list)"
      ],
      "metadata": {
        "colab": {
          "base_uri": "https://localhost:8080/"
        },
        "id": "RcIO_WmUOPoq",
        "outputId": "fe597d1e-1e9d-4622-c8f0-b67c94f006fc"
      },
      "execution_count": 7,
      "outputs": [
        {
          "output_type": "stream",
          "name": "stdout",
          "text": [
            "[10, 22, [22, 33], 44, (66, 88, 100), 81, 22, 11, 22, 33]\n",
            "3\n",
            "[10, 22, 'sar', [22, 33], 44, (66, 88, 100), 81, 22, 11, 22, 33]\n",
            "[10, 22, 'sar', [22, 33], 44, (66, 88, 100), 81, 22, 11, 22]\n",
            "[10, 22, 'sar', [22, 33], (66, 88, 100), 81, 22, 11, 22]\n"
          ]
        }
      ]
    },
    {
      "cell_type": "code",
      "source": [
        "tup=(1,'sara',44)\n",
        "print(type(tup))\n",
        "print(tup)\n",
        "print(tup[0:1])\n",
        "for i in tup:\n",
        "  print(i)"
      ],
      "metadata": {
        "colab": {
          "base_uri": "https://localhost:8080/"
        },
        "id": "lrA1_32ZSb-b",
        "outputId": "917ef51c-5d43-4503-ff2a-f2b2ffcdd4a9"
      },
      "execution_count": 14,
      "outputs": [
        {
          "output_type": "stream",
          "name": "stdout",
          "text": [
            "<class 'tuple'>\n",
            "(1, 'sara', 44)\n",
            "(1,)\n",
            "1\n",
            "sara\n",
            "44\n"
          ]
        }
      ]
    },
    {
      "cell_type": "code",
      "source": [
        "testing the collab"
      ],
      "metadata": {
        "id": "lOWb-mlFUHfd"
      },
      "execution_count": null,
      "outputs": []
    }
  ]
}