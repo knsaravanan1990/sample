{
  "nbformat": 4,
  "nbformat_minor": 0,
  "metadata": {
    "colab": {
      "name": "Untitled4.ipynb",
      "provenance": [],
      "authorship_tag": "ABX9TyPArYhbBttv/QijBsQLxUVz",
      "include_colab_link": true
    },
    "kernelspec": {
      "name": "python3",
      "display_name": "Python 3"
    },
    "language_info": {
      "name": "python"
    }
  },
  "cells": [
    {
      "cell_type": "markdown",
      "metadata": {
        "id": "view-in-github",
        "colab_type": "text"
      },
      "source": [
        "<a href=\"https://colab.research.google.com/github/knsaravanan1990/sample/blob/main/while.ipynb\" target=\"_parent\"><img src=\"https://colab.research.google.com/assets/colab-badge.svg\" alt=\"Open In Colab\"/></a>"
      ]
    },
    {
      "cell_type": "code",
      "execution_count": null,
      "metadata": {
        "id": "RiSVjW7VNny9"
      },
      "outputs": [],
      "source": [
        "a=1\n",
        "while a<=10:\n",
        "  print(a)\n",
        "  a+=1\n",
        "  "
      ]
    },
    {
      "cell_type": "code",
      "source": [
        "a=10\n",
        "while a>=1:\n",
        "  print(a)\n",
        "  a-=1"
      ],
      "metadata": {
        "id": "E8E_euYQVgYr"
      },
      "execution_count": null,
      "outputs": []
    }
  ]
}