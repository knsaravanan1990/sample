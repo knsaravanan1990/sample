{
  "nbformat": 4,
  "nbformat_minor": 0,
  "metadata": {
    "colab": {
      "name": "Untitled5.ipynb",
      "provenance": [],
      "authorship_tag": "ABX9TyMoRmYxJAIy8Nj8O+kkj5qr",
      "include_colab_link": true
    },
    "kernelspec": {
      "name": "python3",
      "display_name": "Python 3"
    },
    "language_info": {
      "name": "python"
    }
  },
  "cells": [
    {
      "cell_type": "markdown",
      "metadata": {
        "id": "view-in-github",
        "colab_type": "text"
      },
      "source": [
        "<a href=\"https://colab.research.google.com/github/knsaravanan1990/sample/blob/main/whileexamples.ipynb\" target=\"_parent\"><img src=\"https://colab.research.google.com/assets/colab-badge.svg\" alt=\"Open In Colab\"/></a>"
      ]
    },
    {
      "cell_type": "code",
      "execution_count": 7,
      "metadata": {
        "colab": {
          "base_uri": "https://localhost:8080/"
        },
        "id": "67TLTB4Vrej-",
        "outputId": "a0df67a5-51d8-4a08-a5da-dc56b54718d6"
      },
      "outputs": [
        {
          "output_type": "stream",
          "name": "stdout",
          "text": [
            "7\n",
            "8\n",
            "9\n",
            "11\n",
            "12\n",
            "13\n",
            "14\n",
            "15\n",
            "16\n"
          ]
        }
      ],
      "source": [
        "i=6\n",
        "while i<=15:\n",
        "  i+=1\n",
        "  if i==10:\n",
        "      continue\n",
        "  print (i)\n",
        "  "
      ]
    },
    {
      "cell_type": "code",
      "source": [
        "while True:\n",
        "  num=eval(input(\"Enter the number: \"))\n",
        "  if num==0:\n",
        "   break\n",
        "  elif num > 0:\n",
        "    print(\"Square of the given number is :\", num*num)\n",
        "  else:\n",
        "    print (\"you have enter the negative number please provide positve number\")\n",
        "    continue"
      ],
      "metadata": {
        "colab": {
          "base_uri": "https://localhost:8080/"
        },
        "id": "daHXuX_rxcMC",
        "outputId": "b7031797-48d7-4f85-9c16-7041cc377dcb"
      },
      "execution_count": 15,
      "outputs": [
        {
          "name": "stdout",
          "output_type": "stream",
          "text": [
            "Enter the number: -9\n",
            "you have enter the negative number please provide positve number\n",
            "Enter the number: 7\n",
            "Square of the given number is : 49\n",
            "Enter the number: 9\n",
            "Square of the given number is : 81\n",
            "Enter the number: 8\n",
            "Square of the given number is : 64\n",
            "Enter the number: 0\n"
          ]
        }
      ]
    },
    {
      "cell_type": "code",
      "source": [
        ""
      ],
      "metadata": {
        "colab": {
          "base_uri": "https://localhost:8080/"
        },
        "id": "7DXmNwb12v0E",
        "outputId": "37075af9-c7bb-4036-88b5-e482d90bb46a"
      },
      "execution_count": 17,
      "outputs": [
        {
          "output_type": "stream",
          "name": "stdout",
          "text": [
            "1\n",
            "2\n",
            "3\n",
            "4\n",
            "5\n",
            "6\n",
            "7\n",
            "8\n",
            "9\n"
          ]
        }
      ]
    }
  ]
}